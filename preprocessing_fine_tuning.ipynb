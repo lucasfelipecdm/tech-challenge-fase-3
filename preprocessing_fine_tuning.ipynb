{
  "nbformat": 4,
  "nbformat_minor": 0,
  "metadata": {
    "colab": {
      "provenance": [],
      "authorship_tag": "ABX9TyPyUF2aB/2bFHiUxsn7S6l3",
      "include_colab_link": true
    },
    "kernelspec": {
      "name": "python3",
      "display_name": "Python 3"
    },
    "language_info": {
      "name": "python"
    }
  },
  "cells": [
    {
      "cell_type": "markdown",
      "metadata": {
        "id": "view-in-github",
        "colab_type": "text"
      },
      "source": [
        "<a href=\"https://colab.research.google.com/github/lucasfelipecdm/tech-challenge-fase-3/blob/main/preprocessing_fine_tuning.ipynb\" target=\"_parent\"><img src=\"https://colab.research.google.com/assets/colab-badge.svg\" alt=\"Open In Colab\"/></a>"
      ]
    },
    {
      "cell_type": "markdown",
      "source": [
        "# Tech Challenge 3\n",
        "### Fine Tuning com Foundation Model GPT-3.5-turbo da OPENAI\n",
        "\n",
        "Para o projeto de Tech Challenge da fase 3 do curso de AI para desenvolvedores da FIAP, decidimos realizar o fine tuning, processo de ajuste fino para refinamento de modelos pré-treinados, utilizando o modelo GPT 3.5 Turbo da OPENAI, o modelo é pago, por isso para evitar gastos altos decidimos realizar alguns ajustes no nosso dataset.\n",
        "\n",
        "O dataset utilizado foi o sugerido [AmazonTitle1MM](https://drive.google.com/file/d/12zH4mL2RX8iSvH0VCNnd3QxO4DzuHWnK/view) - realizamos seu download e a extração dos dados do json: **\"trn.json\"**. Decidimos utilizar somente as 100 primeiras linhas e criamos um **\"trn_smaller.json\"** salvando-o em uma pasta dentro do nosso drive.\n",
        "\n",
        "Vamos para o processo de pré-processamento dos dados e do Fine Tuning:"
      ],
      "metadata": {
        "id": "R9TvuLgsg1dE"
      }
    },
    {
      "cell_type": "markdown",
      "source": [
        "#### Instalação das bibliotecas externas necessárias\n",
        "\n",
        "- Openai para acesso ao foundation model do GPT e a sua API;\n",
        "- Python-dotenv para carregamento do arquivo .env contendo nossa chave de acesso a Openai"
      ],
      "metadata": {
        "id": "CcgM4ZuJjCjS"
      }
    },
    {
      "cell_type": "code",
      "source": [
        "!pip install openai\n",
        "!pip install python-dotenv"
      ],
      "metadata": {
        "colab": {
          "base_uri": "https://localhost:8080/"
        },
        "id": "PJhYPXK-YIbY",
        "outputId": "1ab68d17-3bcf-417f-c7d6-69359dc6ba3c"
      },
      "execution_count": null,
      "outputs": [
        {
          "output_type": "stream",
          "name": "stdout",
          "text": [
            "Collecting openai\n",
            "  Downloading openai-1.48.0-py3-none-any.whl.metadata (24 kB)\n",
            "Requirement already satisfied: anyio<5,>=3.5.0 in /usr/local/lib/python3.10/dist-packages (from openai) (3.7.1)\n",
            "Requirement already satisfied: distro<2,>=1.7.0 in /usr/lib/python3/dist-packages (from openai) (1.7.0)\n",
            "Collecting httpx<1,>=0.23.0 (from openai)\n",
            "  Downloading httpx-0.27.2-py3-none-any.whl.metadata (7.1 kB)\n",
            "Collecting jiter<1,>=0.4.0 (from openai)\n",
            "  Downloading jiter-0.5.0-cp310-cp310-manylinux_2_17_x86_64.manylinux2014_x86_64.whl.metadata (3.6 kB)\n",
            "Requirement already satisfied: pydantic<3,>=1.9.0 in /usr/local/lib/python3.10/dist-packages (from openai) (2.9.2)\n",
            "Requirement already satisfied: sniffio in /usr/local/lib/python3.10/dist-packages (from openai) (1.3.1)\n",
            "Requirement already satisfied: tqdm>4 in /usr/local/lib/python3.10/dist-packages (from openai) (4.66.5)\n",
            "Requirement already satisfied: typing-extensions<5,>=4.11 in /usr/local/lib/python3.10/dist-packages (from openai) (4.12.2)\n",
            "Requirement already satisfied: idna>=2.8 in /usr/local/lib/python3.10/dist-packages (from anyio<5,>=3.5.0->openai) (3.10)\n",
            "Requirement already satisfied: exceptiongroup in /usr/local/lib/python3.10/dist-packages (from anyio<5,>=3.5.0->openai) (1.2.2)\n",
            "Requirement already satisfied: certifi in /usr/local/lib/python3.10/dist-packages (from httpx<1,>=0.23.0->openai) (2024.8.30)\n",
            "Collecting httpcore==1.* (from httpx<1,>=0.23.0->openai)\n",
            "  Downloading httpcore-1.0.5-py3-none-any.whl.metadata (20 kB)\n",
            "Collecting h11<0.15,>=0.13 (from httpcore==1.*->httpx<1,>=0.23.0->openai)\n",
            "  Downloading h11-0.14.0-py3-none-any.whl.metadata (8.2 kB)\n",
            "Requirement already satisfied: annotated-types>=0.6.0 in /usr/local/lib/python3.10/dist-packages (from pydantic<3,>=1.9.0->openai) (0.7.0)\n",
            "Requirement already satisfied: pydantic-core==2.23.4 in /usr/local/lib/python3.10/dist-packages (from pydantic<3,>=1.9.0->openai) (2.23.4)\n",
            "Downloading openai-1.48.0-py3-none-any.whl (376 kB)\n",
            "\u001b[2K   \u001b[90m━━━━━━━━━━━━━━━━━━━━━━━━━━━━━━━━━━━━━━━━\u001b[0m \u001b[32m376.1/376.1 kB\u001b[0m \u001b[31m3.0 MB/s\u001b[0m eta \u001b[36m0:00:00\u001b[0m\n",
            "\u001b[?25hDownloading httpx-0.27.2-py3-none-any.whl (76 kB)\n",
            "\u001b[2K   \u001b[90m━━━━━━━━━━━━━━━━━━━━━━━━━━━━━━━━━━━━━━━━\u001b[0m \u001b[32m76.4/76.4 kB\u001b[0m \u001b[31m5.5 MB/s\u001b[0m eta \u001b[36m0:00:00\u001b[0m\n",
            "\u001b[?25hDownloading httpcore-1.0.5-py3-none-any.whl (77 kB)\n",
            "\u001b[2K   \u001b[90m━━━━━━━━━━━━━━━━━━━━━━━━━━━━━━━━━━━━━━━━\u001b[0m \u001b[32m77.9/77.9 kB\u001b[0m \u001b[31m5.1 MB/s\u001b[0m eta \u001b[36m0:00:00\u001b[0m\n",
            "\u001b[?25hDownloading jiter-0.5.0-cp310-cp310-manylinux_2_17_x86_64.manylinux2014_x86_64.whl (318 kB)\n",
            "\u001b[2K   \u001b[90m━━━━━━━━━━━━━━━━━━━━━━━━━━━━━━━━━━━━━━━━\u001b[0m \u001b[32m318.9/318.9 kB\u001b[0m \u001b[31m14.9 MB/s\u001b[0m eta \u001b[36m0:00:00\u001b[0m\n",
            "\u001b[?25hDownloading h11-0.14.0-py3-none-any.whl (58 kB)\n",
            "\u001b[2K   \u001b[90m━━━━━━━━━━━━━━━━━━━━━━━━━━━━━━━━━━━━━━━━\u001b[0m \u001b[32m58.3/58.3 kB\u001b[0m \u001b[31m4.0 MB/s\u001b[0m eta \u001b[36m0:00:00\u001b[0m\n",
            "\u001b[?25hInstalling collected packages: jiter, h11, httpcore, httpx, openai\n",
            "Successfully installed h11-0.14.0 httpcore-1.0.5 httpx-0.27.2 jiter-0.5.0 openai-1.48.0\n",
            "Collecting python-dotenv\n",
            "  Downloading python_dotenv-1.0.1-py3-none-any.whl.metadata (23 kB)\n",
            "Downloading python_dotenv-1.0.1-py3-none-any.whl (19 kB)\n",
            "Installing collected packages: python-dotenv\n",
            "Successfully installed python-dotenv-1.0.1\n"
          ]
        }
      ]
    },
    {
      "cell_type": "markdown",
      "source": [
        "#### Acesso ao nosso drive do Google\n",
        "\n",
        "Aqui realizamos o acesso ao nosso drive para buscar e salvar dados processados e também carregar nossas variáveis de ambiente"
      ],
      "metadata": {
        "id": "ZI4z1gvkWt_R"
      }
    },
    {
      "cell_type": "code",
      "execution_count": null,
      "metadata": {
        "colab": {
          "base_uri": "https://localhost:8080/"
        },
        "id": "MIr6zCqLWTcO",
        "outputId": "452a0068-c353-4d67-c307-d70b8639f65c"
      },
      "outputs": [
        {
          "output_type": "stream",
          "name": "stdout",
          "text": [
            "Mounted at /content/drive\n"
          ]
        }
      ],
      "source": [
        "from google.colab import drive\n",
        "drive.mount('/content/drive')"
      ]
    },
    {
      "cell_type": "markdown",
      "source": [
        "#### Pré-processamentos e formatação de dados para Fine Tuning\n",
        "\n",
        "Realizamos aqui a preparação dos dados e também a formatação e organização dos dados para que estejam da forma sugerida do modelo que selecionamos, neste caso **\"gpt-3.5-turbo\"** para esse modelo temos que seguir o seguinte formado sugerido na documentação: [Fine tuning - Example Format](https://platform.openai.com/docs/guides/fine-tuning/example-format)\n",
        "\n",
        "\n",
        "\n",
        "```\n",
        "{\"messages\": [{\"role\": \"system\", \"content\": \"Marv is a factual chatbot that is also sarcastic.\"}, {\"role\": \"user\", \"content\": \"What's the capital of France?\"}, {\"role\": \"assistant\", \"content\": \"Paris, as if everyone doesn't know that already.\"}]}\n",
        "{\"messages\": [{\"role\": \"system\", \"content\": \"Marv is a factual chatbot that is also sarcastic.\"}, {\"role\": \"user\", \"content\": \"Who wrote 'Romeo and Juliet'?\"}, {\"role\": \"assistant\", \"content\": \"Oh, just some guy named William Shakespeare. Ever heard of him?\"}]}\n",
        "{\"messages\": [{\"role\": \"system\", \"content\": \"Marv is a factual chatbot that is also sarcastic.\"}, {\"role\": \"user\", \"content\": \"How far is the Moon from Earth?\"}, {\"role\": \"assistant\", \"content\": \"Around 384,400 kilometers. Give or take a few, like that really matters.\"}]}\n",
        "```\n",
        "\n",
        "Além de alterar os dados para se ajustarem ao formato recomendado, decidimos retirar todas as linhas onde o conteúdo é vázio, isso acontece em quase 50% do dataset que selecionamos."
      ],
      "metadata": {
        "id": "juWLUUsXX0Si"
      }
    },
    {
      "cell_type": "code",
      "source": [
        "import json\n",
        "\n",
        "def prepare_data_for_finetuning(dataset_path, output_path):\n",
        "    with open(dataset_path, 'r') as file:\n",
        "        data = [json.loads(line) for line in file]\n",
        "\n",
        "    prepared_data = []\n",
        "\n",
        "    for item in data:\n",
        "        if 'title' in item and item.get('content', '').strip():\n",
        "            system_content = \"You are a helpful assistant that provides detailed product information based on titles and descriptions.\"\n",
        "            user_content = f\"What's the description of {item['title']}?\"\n",
        "            assistant_content = f\"Here's what I found about the product {item['title']}: {item['content']}\"\n",
        "\n",
        "            message_format = {\n",
        "                \"messages\": [\n",
        "                    {\"role\": \"system\", \"content\": system_content},\n",
        "                    {\"role\": \"user\", \"content\": user_content},\n",
        "                    {\"role\": \"assistant\", \"content\": assistant_content}\n",
        "                ]\n",
        "            }\n",
        "\n",
        "            prepared_data.append(message_format)\n",
        "\n",
        "    with open(output_path, 'w') as f:\n",
        "        for entry in prepared_data:\n",
        "            f.write(json.dumps(entry) + '\\n')\n",
        "\n",
        "prepare_data_for_finetuning(\"/content/drive/MyDrive/Colab Notebooks/tech-challenge-3-content/trn_smaller.json\", \"/content/drive/MyDrive/Colab Notebooks/tech-challenge-3-content/trn_smaller_pre_processed.jsonl\")"
      ],
      "metadata": {
        "id": "NRO-W4DgK5ek"
      },
      "execution_count": null,
      "outputs": []
    },
    {
      "cell_type": "markdown",
      "source": [
        "#### Carregamento de Variáveis de Ambiente e Acesso a OpenAI\n",
        "\n",
        "Aqui utilizamos as bibliotecas pré-instaladas para carregar o arquivo .env com nossa chave para acesso a API da OpenAI e também criamos um client para acesso ao upload de arquivos e criação do fine tuning model."
      ],
      "metadata": {
        "id": "jI9hQz3yoSSL"
      }
    },
    {
      "cell_type": "code",
      "source": [
        "from openai import OpenAI\n",
        "from dotenv import load_dotenv\n",
        "import os\n",
        "\n",
        "load_dotenv('/content/drive/MyDrive/Colab Notebooks/tech-challenge-3-content/.env')\n",
        "client = OpenAI(api_key=os.environ.get('OPENAI_KEY'))"
      ],
      "metadata": {
        "id": "IxeVe4XmVU-T"
      },
      "execution_count": null,
      "outputs": []
    },
    {
      "cell_type": "markdown",
      "source": [
        "#### Upload do arquivo pré-processado\n",
        "\n",
        "Realizamos aqui o upload do arquivo com os dados pré-processado anteriorment e salvo em nosso drive para o nosso storage na OpenAI, dessa forma o processo de Fine Tuning tem acesso ao nossos dados de treinamento."
      ],
      "metadata": {
        "id": "nBdPAqJ-oxNk"
      }
    },
    {
      "cell_type": "code",
      "source": [
        "upload_response = client.files.create(\n",
        "  file=open(\"/content/drive/MyDrive/Colab Notebooks/tech-challenge-3-content/trn_smaller_pre_processed.jsonl\", \"rb\"),\n",
        "  purpose='fine-tune'\n",
        ")\n",
        "file_id = upload_response.id\n",
        "print(f\"Pre-processed data file successfully uploaded! [File ID: {file_id}]\")"
      ],
      "metadata": {
        "colab": {
          "base_uri": "https://localhost:8080/"
        },
        "id": "yFwarZ_9QYFn",
        "outputId": "3eea79e7-e6a4-4003-f77a-fbf9472951c3"
      },
      "execution_count": null,
      "outputs": [
        {
          "output_type": "stream",
          "name": "stdout",
          "text": [
            "Pre-processed data file successfully uploaded! [File ID: file-G086iCezJDKN5OJb73kyKEwt]\n"
          ]
        }
      ]
    },
    {
      "cell_type": "markdown",
      "source": [
        "#### Criação do Fine Tuning\n",
        "\n",
        "Aqui realizamos a chamada para inicio de Fine Tuning, passando como parametros o modelo que desejamos utilizar e também o ID do arquivo que deve ser utilizado para treimento do modelo e fine tuning."
      ],
      "metadata": {
        "id": "jubwTuChpdO6"
      }
    },
    {
      "cell_type": "code",
      "source": [
        "fine_tune_response = client.fine_tuning.jobs.create(\n",
        "  training_file=file_id,\n",
        "  model=\"gpt-3.5-turbo\"\n",
        ")\n",
        "fine_tune_response"
      ],
      "metadata": {
        "colab": {
          "base_uri": "https://localhost:8080/"
        },
        "id": "1kZ7iIDRSvCU",
        "outputId": "aa5da943-e9b1-47ee-df51-8f7355799e58"
      },
      "execution_count": null,
      "outputs": [
        {
          "output_type": "execute_result",
          "data": {
            "text/plain": [
              "FineTuningJob(id='ftjob-TThnFDo13WG0NmuZbdH5xIil', created_at=1727292436, error=Error(code=None, message=None, param=None), fine_tuned_model=None, finished_at=None, hyperparameters=Hyperparameters(n_epochs='auto', batch_size='auto', learning_rate_multiplier='auto'), model='gpt-3.5-turbo-0125', object='fine_tuning.job', organization_id='org-hPjeEVgMmlY5VHiQLpguka6k', result_files=[], seed=767339603, status='validating_files', trained_tokens=None, training_file='file-G086iCezJDKN5OJb73kyKEwt', validation_file=None, estimated_finish=None, integrations=[], user_provided_suffix=None)"
            ]
          },
          "metadata": {},
          "execution_count": 6
        }
      ]
    },
    {
      "cell_type": "markdown",
      "source": [
        "#### Verificar o status do Fine Tuning\n",
        "\n",
        "Aqui podemos verificar o status do Fine Tuning utilizando o ID do processo que recebemos na etapa anterior, também é possivel acompanhar caso acontece alguma falha ou erro durante o fine tuning."
      ],
      "metadata": {
        "id": "_uL6XSheqF7p"
      }
    },
    {
      "cell_type": "code",
      "source": [
        "retrieve_response = client.fine_tuning.jobs.retrieve(fine_tune_response.id)\n",
        "retrieve_response"
      ],
      "metadata": {
        "colab": {
          "base_uri": "https://localhost:8080/"
        },
        "id": "y130YO51TjuW",
        "outputId": "9cb24bc1-d7ad-492c-ae08-737dde515954"
      },
      "execution_count": null,
      "outputs": [
        {
          "output_type": "execute_result",
          "data": {
            "text/plain": [
              "FineTuningJob(id='ftjob-TThnFDo13WG0NmuZbdH5xIil', created_at=1727292436, error=Error(code=None, message=None, param=None), fine_tuned_model='ft:gpt-3.5-turbo-0125:personal::ABS2yQYP', finished_at=1727292783, hyperparameters=Hyperparameters(n_epochs=3, batch_size=1, learning_rate_multiplier=2), model='gpt-3.5-turbo-0125', object='fine_tuning.job', organization_id='org-hPjeEVgMmlY5VHiQLpguka6k', result_files=['file-lrb1Oqv0LQSWYyirEh2DyOqa'], seed=767339603, status='succeeded', trained_tokens=27318, training_file='file-G086iCezJDKN5OJb73kyKEwt', validation_file=None, estimated_finish=None, integrations=[], user_provided_suffix=None)"
            ]
          },
          "metadata": {},
          "execution_count": 9
        }
      ]
    },
    {
      "cell_type": "markdown",
      "source": [
        "#### Utilizando o modelo treinado\n",
        "\n",
        "Aqui fazemos uma simples condição que verifica se o processo de Fine Tuning foi finalizado e caso sim, adicionamos o ID a uma váriavel para utilização durante o teste."
      ],
      "metadata": {
        "id": "BdGctq-2qKXe"
      }
    },
    {
      "cell_type": "code",
      "source": [
        "if retrieve_response.fine_tuned_model != None:\n",
        "    fine_tuned_model = retrieve_response.fine_tuned_model\n",
        "fine_tuned_model"
      ],
      "metadata": {
        "colab": {
          "base_uri": "https://localhost:8080/",
          "height": 36
        },
        "id": "nB4yfS9qTs3R",
        "outputId": "1ed693f0-e21e-47d6-dd1c-e4fb4678bb1d"
      },
      "execution_count": null,
      "outputs": [
        {
          "output_type": "execute_result",
          "data": {
            "text/plain": [
              "'ft:gpt-3.5-turbo-0125:personal::ABS2yQYP'"
            ],
            "application/vnd.google.colaboratory.intrinsic+json": {
              "type": "string"
            }
          },
          "metadata": {},
          "execution_count": 12
        }
      ]
    },
    {
      "cell_type": "markdown",
      "source": [
        "#### Teste da pergunta do usuário a um modelo sem Fine Tuning\n",
        "\n",
        "Aqui utilizamos uma chamada normal ao completions da OpenAI utilizando um modelo normal sem fine tuning 'gtp-3.5-turbo', nas mensagens passamos parametros como qual a role de quem está fazendo a pergunta, o número máximo de tokens para uma resposta mais completa ou não e também a temperatura dizendo o quanto queremos de liberdade para o modelo, para que ele seja criativo ou mais específico:"
      ],
      "metadata": {
        "id": "NmuuubOMqp7a"
      }
    },
    {
      "cell_type": "code",
      "source": [
        "new_prompt = \"What's the description of Girls Ballet Tutu Neon Blue?\"\n",
        "\n",
        "completion = client.chat.completions.create(\n",
        "  model=\"gpt-3.5-turbo\",\n",
        "  messages=[{'role': 'user', 'content': new_prompt}],\n",
        "  max_tokens=200,\n",
        "  temperature=0.2\n",
        ")\n",
        "print(completion.choices[0].message.content)"
      ],
      "metadata": {
        "colab": {
          "base_uri": "https://localhost:8080/"
        },
        "id": "35CH5yrbVKJ3",
        "outputId": "869c6334-9385-4b2e-fcd8-dac9e6ab69ff"
      },
      "execution_count": null,
      "outputs": [
        {
          "output_type": "stream",
          "name": "stdout",
          "text": [
            "The Girls Ballet Tutu in Neon Blue is a vibrant and eye-catching tutu skirt perfect for young dancers. The tutu features multiple layers of tulle in a bright neon blue color, creating a fun and playful look. The elastic waistband ensures a comfortable and secure fit, making it easy to move and dance in. This tutu is perfect for ballet classes, recitals, dress-up play, or any other special occasion where your little dancer wants to stand out and shine.\n"
          ]
        }
      ]
    },
    {
      "cell_type": "markdown",
      "source": [
        "#### Teste da pergunta do usuário a um modelo com Fine Tuning\n",
        "\n",
        "Aqui utilizamos uma chamada ao completions da OpenAI utilizando o modelo com Fine Tuning, utilizamos os mesmos parametros para message, max tokens e temperature:"
      ],
      "metadata": {
        "id": "9CQxk3o79Gdh"
      }
    },
    {
      "cell_type": "code",
      "source": [
        "new_prompt = \"What's the description of Girls Ballet Tutu Neon Blue?\"\n",
        "\n",
        "completion = client.chat.completions.create(\n",
        "  model=fine_tuned_model,\n",
        "  messages=[{'role': 'user', 'content': new_prompt}],\n",
        "  max_tokens=200,\n",
        "  temperature=0.2\n",
        ")\n",
        "print(completion.choices[0].message.content)"
      ],
      "metadata": {
        "colab": {
          "base_uri": "https://localhost:8080/"
        },
        "id": "iPRpva7fUA6S",
        "outputId": "44d21a7b-6f7b-4b21-dfbe-36bda4acdccf"
      },
      "execution_count": null,
      "outputs": [
        {
          "output_type": "stream",
          "name": "stdout",
          "text": [
            "Here's a summary of the product Girls Ballet Tutu Neon Blue: This is a beautiful neon blue tutu. The skirt is made of a soft tulle and the waistband is made of a soft satin. This tutu is perfect for a dance recital or to wear just for fun.\n"
          ]
        }
      ]
    },
    {
      "cell_type": "markdown",
      "source": [
        "#### Comparação das respostas de antes e depois do Fine Tuning:\n",
        "\n",
        "Descrição no dataset da AmazonTitles1MM:\n",
        "> Dance tutu for girls ages 2-8 years. Perfect for dance practice, recitals and performances, costumes or just for fun!\n",
        "\n",
        "Descrição do modelo **SEM** Fine Tuning:\n",
        "> The Girls Ballet Tutu in Neon Blue is a vibrant and eye-catching tutu skirt perfect for young dancers. The tutu features multiple layers of tulle in a bright neon blue color, creating a fun and playful look. The elastic waistband ensures a comfortable and secure fit, making it easy to move and dance in. This tutu is perfect for ballet classes, recitals, dress-up play, or any other special occasion where your little dancer wants to stand out and shine.\n",
        "\n",
        "Descrição do modelo **COM** Fine Tuning:\n",
        "> Here's a summary of the product Girls Ballet Tutu Neon Blue: This is a beautiful neon blue tutu. The skirt is made of a soft tulle and the waistband is made of a soft satin. This tutu is perfect for a dance recital or to wear just for fun.\n",
        "\n",
        "\n",
        "\n"
      ],
      "metadata": {
        "id": "AUnw0YM8sAQm"
      }
    }
  ]
}